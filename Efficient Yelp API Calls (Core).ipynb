{
 "cells": [
  {
   "cell_type": "markdown",
   "id": "fe317290-f634-43c7-987b-34efe3ba3315",
   "metadata": {
    "tags": []
   },
   "source": [
    "# Efficient Yelp Api Calls"
   ]
  },
  {
   "cell_type": "code",
   "execution_count": 14,
   "id": "19ee8a42-dfc5-4e34-b8ba-416d6d05eaa4",
   "metadata": {},
   "outputs": [],
   "source": [
    "#Full Name: Hannah Ploutz"
   ]
  },
  {
   "cell_type": "markdown",
   "id": "94894cfa-899b-41cb-b3ca-49695ae84e44",
   "metadata": {
    "tags": []
   },
   "source": [
    "## Imports"
   ]
  },
  {
   "cell_type": "code",
   "execution_count": 57,
   "id": "2d1b04c2-7de8-45ec-b003-910048654123",
   "metadata": {},
   "outputs": [],
   "source": [
    "# Standard Imports\n",
    "import numpy as np\n",
    "import pandas as pd\n",
    "import matplotlib.pyplot as plt\n",
    "import seaborn as sns\n",
    "# Additional Imports\n",
    "import os, json, math, time\n",
    "from yelpapi import YelpAPI\n",
    "from tqdm.notebook import tqdm_notebook"
   ]
  },
  {
   "cell_type": "markdown",
   "id": "a82a54aa-0183-438a-9e40-9efd13df194c",
   "metadata": {},
   "source": [
    "## Function"
   ]
  },
  {
   "cell_type": "code",
   "execution_count": 58,
   "id": "c7226578-7cf7-47aa-aede-7e231e420f4e",
   "metadata": {},
   "outputs": [],
   "source": [
    "def create_json_file(JSON_FILE, delete_if_exists=False):\n",
    "\n",
    "    # Check if JSON_FILE exists\n",
    "    file_exists = os.path.isfile(JSON_FILE)\n",
    "\n",
    "    # If it DOES exist:\n",
    "    if file_exists == True:\n",
    "\n",
    "        # Check if user wants to delete if exists\n",
    "        if delete_if_exists==True:\n",
    "\n",
    "            print(f\"[!] {JSON_FILE} already exists. Deleting previous file...\")\n",
    "            # Delete file and confirm it no longer exists\n",
    "            os.remove(JSON_FILE)\n",
    "            # Recursive call to function after old file deleted\n",
    "            create_json_file(JSON_FILE, delete_if_exists=False)\n",
    "        else:\n",
    "            print(f\"[i] {JSON_FILE} already exists.\")\n",
    "\n",
    "    # If it does NOT exist:\n",
    "    else:\n",
    "\n",
    "        # INFORM USER AND SAVE EMPTY LIST\n",
    "        print(f\"[i] {JSON_FILE} not found. Saving empty list to new file.\")\n",
    "\n",
    "        # CREATE ANY NEEDED FOLDERS\n",
    "        # Get the Folder Name only\n",
    "        folder = os.path.dirname(JSON_FILE)\n",
    "\n",
    "        # If JSON_FILE included a folder:\n",
    "        if len(folder) > 0:\n",
    "            # Create the folder\n",
    "            os.makedirs(folder, exist_ok=True)\n",
    "        # Save empty list to start the JSON file\n",
    "        with open(JSON_FILE, 'w') as f:\n",
    "            json.dump([], f)"
   ]
  },
  {
   "cell_type": "markdown",
   "id": "6fa4a49e-2547-45d4-b559-dc1b96768027",
   "metadata": {},
   "source": [
    "## Load API Credentials"
   ]
  },
  {
   "cell_type": "code",
   "execution_count": 59,
   "id": "671187a0-d098-4c27-9d5c-e1a67a107f65",
   "metadata": {},
   "outputs": [
    {
     "data": {
      "text/plain": [
       "dict_keys(['Client-ID', 'API Key'])"
      ]
     },
     "execution_count": 59,
     "metadata": {},
     "output_type": "execute_result"
    }
   ],
   "source": [
    "# Load API Credentials\n",
    "with open('/Users/hgplo/.secret/yelp_api.json') as f:   #use your path here!\n",
    "    login = json.load(f)\n",
    "login.keys()"
   ]
  },
  {
   "cell_type": "code",
   "execution_count": 60,
   "id": "9b0162d1-080c-46ef-b9a4-fc33177c0ccd",
   "metadata": {},
   "outputs": [],
   "source": [
    "# Instantiate YelpAPI Variable\n",
    "yelp_api = YelpAPI(login['API Key'], timeout_s=5.0)"
   ]
  },
  {
   "cell_type": "code",
   "execution_count": 61,
   "id": "d0fbc0e5-f04a-4077-aff2-16db1c4b0f88",
   "metadata": {},
   "outputs": [
    {
     "name": "stdout",
     "output_type": "stream",
     "text": [
      "<class 'dict'>\n"
     ]
    },
    {
     "data": {
      "text/plain": [
       "dict_keys(['businesses', 'total', 'region'])"
      ]
     },
     "execution_count": 61,
     "metadata": {},
     "output_type": "execute_result"
    }
   ],
   "source": [
    "#running a test query\n",
    "test_results = yelp_api.search_query(location='Baltimore, MD',\n",
    "                                       term='Crab Cake')\n",
    "print(type(test_results))\n",
    "test_results.keys()"
   ]
  },
  {
   "cell_type": "code",
   "execution_count": 62,
   "id": "e78704a8-5f86-43e7-b652-42a26b217fd3",
   "metadata": {},
   "outputs": [],
   "source": [
    "# set our API call parameters \n",
    "LOCATION = 'NY,NY'\n",
    "TERM = 'Salad'"
   ]
  },
  {
   "cell_type": "markdown",
   "id": "9e632d92-7508-47f8-ad86-09e19646a591",
   "metadata": {},
   "source": [
    "### Use Function to create JSON File"
   ]
  },
  {
   "cell_type": "code",
   "execution_count": 63,
   "id": "bda0c0a5-358f-4f5c-9046-71b0246e2f5a",
   "metadata": {},
   "outputs": [
    {
     "name": "stdout",
     "output_type": "stream",
     "text": [
      "[!] Data/results_in_progress_NY_salad.json already exists. Deleting previous file...\n",
      "[i] Data/results_in_progress_NY_salad.json not found. Saving empty list to new file.\n",
      "- 0 previous results found.\n"
     ]
    },
    {
     "data": {
      "text/plain": [
       "1015"
      ]
     },
     "execution_count": 63,
     "metadata": {},
     "output_type": "execute_result"
    }
   ],
   "source": [
    "## Create a new empty json file (exist the previous if it exists)\n",
    "create_json_file(JSON_FILE, delete_if_exists=True)\n",
    "\n",
    "## Load previous results and use len of results for offset\n",
    "with open(JSON_FILE,'r') as f:\n",
    "    previous_results = json.load(f)\n",
    "    \n",
    "## set offset based on previous results\n",
    "n_results = len(previous_results)\n",
    "print(f'- {n_results} previous results found.')\n",
    "# use our yelp_api variable's search_query method to perform our API call\n",
    "results = yelp_api.search_query(location=LOCATION,\n",
    "                                term=TERM,\n",
    "                               offset=n_results)\n",
    "## How many results total?\n",
    "total_results = results['total']\n",
    "## How many did we get the details for?\n",
    "results_per_page = len(results['businesses'])\n",
    "# Use math.ceil to round up for the total number of pages of results.\n",
    "n_pages = math.ceil((results['total']-n_results)/ results_per_page)\n",
    "n_pages"
   ]
  },
  {
   "cell_type": "markdown",
   "id": "02e7d864-c252-4db7-8f3a-ab3431190c3c",
   "metadata": {},
   "source": [
    "### Use For Loop to Check if Data file exists"
   ]
  },
  {
   "cell_type": "markdown",
   "id": "3316120d-bda7-450b-b146-b0981d28542b",
   "metadata": {},
   "source": [
    "- if it doesnt, create folder and save empty list as JSON file\n",
    "- then run the search and save the results to the file"
   ]
  },
  {
   "cell_type": "code",
   "execution_count": 64,
   "id": "c740fd78-f314-4922-adf5-474300b47a32",
   "metadata": {},
   "outputs": [
    {
     "data": {
      "application/vnd.jupyter.widget-view+json": {
       "model_id": "0dbaf84c44f140f88d461f1c32f4173c",
       "version_major": 2,
       "version_minor": 0
      },
      "text/plain": [
       "  0%|          | 0/1015 [00:00<?, ?it/s]"
      ]
     },
     "metadata": {},
     "output_type": "display_data"
    },
    {
     "name": "stdout",
     "output_type": "stream",
     "text": [
      "Exceeded 1000 api calls. Stopping loop.\n"
     ]
    }
   ],
   "source": [
    "for i in tqdm_notebook( range(1,n_pages+1)):\n",
    "    \n",
    "    ## Read in results in progress file and check the length\n",
    "    with open(JSON_FILE, 'r') as f:\n",
    "        previous_results = json.load(f)\n",
    "    ## save number of results for to use as offset\n",
    "    n_results = len(previous_results)\n",
    "    \n",
    "    if (n_results + results_per_page) > 1000:\n",
    "        print('Exceeded 1000 api calls. Stopping loop.')\n",
    "        break\n",
    "    \n",
    "    ## use n_results as the OFFSET \n",
    "    results = yelp_api.search_query(location=LOCATION,\n",
    "                                    term=TERM, \n",
    "                                    offset=n_results)\n",
    "    \n",
    "    \n",
    "    \n",
    "    ## append new results and save to file\n",
    "    previous_results.extend(results['businesses'])\n",
    "    \n",
    "    # display(previous_results)\n",
    "    with open(JSON_FILE,'w') as f:\n",
    "        json.dump(previous_results,f)\n",
    "    \n",
    "    time.sleep(.2)"
   ]
  },
  {
   "cell_type": "markdown",
   "id": "e3a3f740-d99b-4889-8577-829d29580d56",
   "metadata": {},
   "source": [
    "### Load Final Results + Cleanup"
   ]
  },
  {
   "cell_type": "code",
   "execution_count": 65,
   "id": "f5e2eef7-61ae-413c-8f5f-ef9130674211",
   "metadata": {},
   "outputs": [
    {
     "data": {
      "text/html": [
       "<div>\n",
       "<style scoped>\n",
       "    .dataframe tbody tr th:only-of-type {\n",
       "        vertical-align: middle;\n",
       "    }\n",
       "\n",
       "    .dataframe tbody tr th {\n",
       "        vertical-align: top;\n",
       "    }\n",
       "\n",
       "    .dataframe thead th {\n",
       "        text-align: right;\n",
       "    }\n",
       "</style>\n",
       "<table border=\"1\" class=\"dataframe\">\n",
       "  <thead>\n",
       "    <tr style=\"text-align: right;\">\n",
       "      <th></th>\n",
       "      <th>id</th>\n",
       "      <th>alias</th>\n",
       "      <th>name</th>\n",
       "      <th>image_url</th>\n",
       "      <th>is_closed</th>\n",
       "      <th>url</th>\n",
       "      <th>review_count</th>\n",
       "      <th>categories</th>\n",
       "      <th>rating</th>\n",
       "      <th>coordinates</th>\n",
       "      <th>transactions</th>\n",
       "      <th>location</th>\n",
       "      <th>phone</th>\n",
       "      <th>display_phone</th>\n",
       "      <th>distance</th>\n",
       "      <th>price</th>\n",
       "    </tr>\n",
       "  </thead>\n",
       "  <tbody>\n",
       "    <tr>\n",
       "      <th>0</th>\n",
       "      <td>aMG1RR8UPLL4Kl33SQr9RA</td>\n",
       "      <td>chop-and-go-new-york-3</td>\n",
       "      <td>Chop &amp; Go</td>\n",
       "      <td>https://s3-media2.fl.yelpcdn.com/bphoto/uR2IFp...</td>\n",
       "      <td>False</td>\n",
       "      <td>https://www.yelp.com/biz/chop-and-go-new-york-...</td>\n",
       "      <td>16</td>\n",
       "      <td>[{'alias': 'salad', 'title': 'Salad'}]</td>\n",
       "      <td>4.5</td>\n",
       "      <td>{'latitude': 40.759297, 'longitude': -73.970186}</td>\n",
       "      <td>[pickup, delivery]</td>\n",
       "      <td>{'address1': '643 Lexington Ave', 'address2': ...</td>\n",
       "      <td>+19173009546</td>\n",
       "      <td>(917) 300-9546</td>\n",
       "      <td>5866.859902</td>\n",
       "      <td>NaN</td>\n",
       "    </tr>\n",
       "    <tr>\n",
       "      <th>1</th>\n",
       "      <td>q2Vq56jenOx8cXD2fCupYg</td>\n",
       "      <td>leitao-new-york-3</td>\n",
       "      <td>Leitao</td>\n",
       "      <td>https://s3-media3.fl.yelpcdn.com/bphoto/AiCqtq...</td>\n",
       "      <td>False</td>\n",
       "      <td>https://www.yelp.com/biz/leitao-new-york-3?adj...</td>\n",
       "      <td>122</td>\n",
       "      <td>[{'alias': 'portuguese', 'title': 'Portuguese'...</td>\n",
       "      <td>4.5</td>\n",
       "      <td>{'latitude': 40.73495, 'longitude': -74.00628}</td>\n",
       "      <td>[pickup, delivery]</td>\n",
       "      <td>{'address1': '547 Hudson St', 'address2': '', ...</td>\n",
       "      <td>+12128109944</td>\n",
       "      <td>(212) 810-9944</td>\n",
       "      <td>3861.581136</td>\n",
       "      <td>$$$</td>\n",
       "    </tr>\n",
       "    <tr>\n",
       "      <th>2</th>\n",
       "      <td>vZevXSC1w27dEvXc2EHCEg</td>\n",
       "      <td>good-thanks-cafe-new-york</td>\n",
       "      <td>Good Thanks Cafe</td>\n",
       "      <td>https://s3-media1.fl.yelpcdn.com/bphoto/8B_AcK...</td>\n",
       "      <td>False</td>\n",
       "      <td>https://www.yelp.com/biz/good-thanks-cafe-new-...</td>\n",
       "      <td>378</td>\n",
       "      <td>[{'alias': 'cafes', 'title': 'Cafes'}, {'alias...</td>\n",
       "      <td>4.5</td>\n",
       "      <td>{'latitude': 40.71972, 'longitude': -73.98952}</td>\n",
       "      <td>[pickup, delivery]</td>\n",
       "      <td>{'address1': '131A Orchard St', 'address2': No...</td>\n",
       "      <td>+16463704426</td>\n",
       "      <td>(646) 370-4426</td>\n",
       "      <td>1664.931111</td>\n",
       "      <td>$$</td>\n",
       "    </tr>\n",
       "    <tr>\n",
       "      <th>3</th>\n",
       "      <td>UK8Ju3V32B5g_kh2GNNMjA</td>\n",
       "      <td>just-salad-brooklyn-6</td>\n",
       "      <td>Just Salad</td>\n",
       "      <td>https://s3-media4.fl.yelpcdn.com/bphoto/_79nHL...</td>\n",
       "      <td>False</td>\n",
       "      <td>https://www.yelp.com/biz/just-salad-brooklyn-6...</td>\n",
       "      <td>44</td>\n",
       "      <td>[{'alias': 'salad', 'title': 'Salad'}, {'alias...</td>\n",
       "      <td>4.5</td>\n",
       "      <td>{'latitude': 40.7153455, 'longitude': -73.9584...</td>\n",
       "      <td>[pickup, delivery]</td>\n",
       "      <td>{'address1': '182 North 4th', 'address2': None...</td>\n",
       "      <td>+18666733757</td>\n",
       "      <td>(866) 673-3757</td>\n",
       "      <td>1983.652484</td>\n",
       "      <td>NaN</td>\n",
       "    </tr>\n",
       "    <tr>\n",
       "      <th>4</th>\n",
       "      <td>dqfHeckcMJLhrRSjlPIynw</td>\n",
       "      <td>avocaderia-brooklyn</td>\n",
       "      <td>Avocaderia</td>\n",
       "      <td>https://s3-media1.fl.yelpcdn.com/bphoto/rUVV-0...</td>\n",
       "      <td>False</td>\n",
       "      <td>https://www.yelp.com/biz/avocaderia-brooklyn?a...</td>\n",
       "      <td>245</td>\n",
       "      <td>[{'alias': 'sandwiches', 'title': 'Sandwiches'...</td>\n",
       "      <td>3.5</td>\n",
       "      <td>{'latitude': 40.656252, 'longitude': -74.007841}</td>\n",
       "      <td>[pickup, delivery]</td>\n",
       "      <td>{'address1': '238 36th St', 'address2': '', 'a...</td>\n",
       "      <td>+13472270350</td>\n",
       "      <td>(347) 227-0350</td>\n",
       "      <td>6136.171847</td>\n",
       "      <td>$$</td>\n",
       "    </tr>\n",
       "  </tbody>\n",
       "</table>\n",
       "</div>"
      ],
      "text/plain": [
       "                       id                      alias              name  \\\n",
       "0  aMG1RR8UPLL4Kl33SQr9RA     chop-and-go-new-york-3         Chop & Go   \n",
       "1  q2Vq56jenOx8cXD2fCupYg          leitao-new-york-3            Leitao   \n",
       "2  vZevXSC1w27dEvXc2EHCEg  good-thanks-cafe-new-york  Good Thanks Cafe   \n",
       "3  UK8Ju3V32B5g_kh2GNNMjA      just-salad-brooklyn-6        Just Salad   \n",
       "4  dqfHeckcMJLhrRSjlPIynw        avocaderia-brooklyn        Avocaderia   \n",
       "\n",
       "                                           image_url  is_closed  \\\n",
       "0  https://s3-media2.fl.yelpcdn.com/bphoto/uR2IFp...      False   \n",
       "1  https://s3-media3.fl.yelpcdn.com/bphoto/AiCqtq...      False   \n",
       "2  https://s3-media1.fl.yelpcdn.com/bphoto/8B_AcK...      False   \n",
       "3  https://s3-media4.fl.yelpcdn.com/bphoto/_79nHL...      False   \n",
       "4  https://s3-media1.fl.yelpcdn.com/bphoto/rUVV-0...      False   \n",
       "\n",
       "                                                 url  review_count  \\\n",
       "0  https://www.yelp.com/biz/chop-and-go-new-york-...            16   \n",
       "1  https://www.yelp.com/biz/leitao-new-york-3?adj...           122   \n",
       "2  https://www.yelp.com/biz/good-thanks-cafe-new-...           378   \n",
       "3  https://www.yelp.com/biz/just-salad-brooklyn-6...            44   \n",
       "4  https://www.yelp.com/biz/avocaderia-brooklyn?a...           245   \n",
       "\n",
       "                                          categories  rating  \\\n",
       "0             [{'alias': 'salad', 'title': 'Salad'}]     4.5   \n",
       "1  [{'alias': 'portuguese', 'title': 'Portuguese'...     4.5   \n",
       "2  [{'alias': 'cafes', 'title': 'Cafes'}, {'alias...     4.5   \n",
       "3  [{'alias': 'salad', 'title': 'Salad'}, {'alias...     4.5   \n",
       "4  [{'alias': 'sandwiches', 'title': 'Sandwiches'...     3.5   \n",
       "\n",
       "                                         coordinates        transactions  \\\n",
       "0   {'latitude': 40.759297, 'longitude': -73.970186}  [pickup, delivery]   \n",
       "1     {'latitude': 40.73495, 'longitude': -74.00628}  [pickup, delivery]   \n",
       "2     {'latitude': 40.71972, 'longitude': -73.98952}  [pickup, delivery]   \n",
       "3  {'latitude': 40.7153455, 'longitude': -73.9584...  [pickup, delivery]   \n",
       "4   {'latitude': 40.656252, 'longitude': -74.007841}  [pickup, delivery]   \n",
       "\n",
       "                                            location         phone  \\\n",
       "0  {'address1': '643 Lexington Ave', 'address2': ...  +19173009546   \n",
       "1  {'address1': '547 Hudson St', 'address2': '', ...  +12128109944   \n",
       "2  {'address1': '131A Orchard St', 'address2': No...  +16463704426   \n",
       "3  {'address1': '182 North 4th', 'address2': None...  +18666733757   \n",
       "4  {'address1': '238 36th St', 'address2': '', 'a...  +13472270350   \n",
       "\n",
       "    display_phone     distance price  \n",
       "0  (917) 300-9546  5866.859902   NaN  \n",
       "1  (212) 810-9944  3861.581136   $$$  \n",
       "2  (646) 370-4426  1664.931111    $$  \n",
       "3  (866) 673-3757  1983.652484   NaN  \n",
       "4  (347) 227-0350  6136.171847    $$  "
      ]
     },
     "metadata": {},
     "output_type": "display_data"
    },
    {
     "data": {
      "text/html": [
       "<div>\n",
       "<style scoped>\n",
       "    .dataframe tbody tr th:only-of-type {\n",
       "        vertical-align: middle;\n",
       "    }\n",
       "\n",
       "    .dataframe tbody tr th {\n",
       "        vertical-align: top;\n",
       "    }\n",
       "\n",
       "    .dataframe thead th {\n",
       "        text-align: right;\n",
       "    }\n",
       "</style>\n",
       "<table border=\"1\" class=\"dataframe\">\n",
       "  <thead>\n",
       "    <tr style=\"text-align: right;\">\n",
       "      <th></th>\n",
       "      <th>id</th>\n",
       "      <th>alias</th>\n",
       "      <th>name</th>\n",
       "      <th>image_url</th>\n",
       "      <th>is_closed</th>\n",
       "      <th>url</th>\n",
       "      <th>review_count</th>\n",
       "      <th>categories</th>\n",
       "      <th>rating</th>\n",
       "      <th>coordinates</th>\n",
       "      <th>transactions</th>\n",
       "      <th>location</th>\n",
       "      <th>phone</th>\n",
       "      <th>display_phone</th>\n",
       "      <th>distance</th>\n",
       "      <th>price</th>\n",
       "    </tr>\n",
       "  </thead>\n",
       "  <tbody>\n",
       "    <tr>\n",
       "      <th>995</th>\n",
       "      <td>O9LKN5kk17lQWb7mMuiBzw</td>\n",
       "      <td>yasouvlaki-new-york</td>\n",
       "      <td>yasouvlaki</td>\n",
       "      <td>https://s3-media4.fl.yelpcdn.com/bphoto/w_Aciv...</td>\n",
       "      <td>False</td>\n",
       "      <td>https://www.yelp.com/biz/yasouvlaki-new-york?a...</td>\n",
       "      <td>109</td>\n",
       "      <td>[{'alias': 'greek', 'title': 'Greek'}]</td>\n",
       "      <td>4.0</td>\n",
       "      <td>{'latitude': 40.7803, 'longitude': -73.95312}</td>\n",
       "      <td>[]</td>\n",
       "      <td>{'address1': '1568 3rd Ave', 'address2': '', '...</td>\n",
       "      <td></td>\n",
       "      <td></td>\n",
       "      <td>8444.227049</td>\n",
       "      <td>NaN</td>\n",
       "    </tr>\n",
       "    <tr>\n",
       "      <th>996</th>\n",
       "      <td>jTvExXa9M8QqS_Wn_4KB5g</td>\n",
       "      <td>harissa-grill-long-island-city</td>\n",
       "      <td>Harissa Grill</td>\n",
       "      <td>https://s3-media4.fl.yelpcdn.com/bphoto/-cRhLz...</td>\n",
       "      <td>False</td>\n",
       "      <td>https://www.yelp.com/biz/harissa-grill-long-is...</td>\n",
       "      <td>16</td>\n",
       "      <td>[{'alias': 'mediterranean', 'title': 'Mediterr...</td>\n",
       "      <td>4.0</td>\n",
       "      <td>{'latitude': 40.7423867, 'longitude': -73.9364...</td>\n",
       "      <td>[pickup, delivery]</td>\n",
       "      <td>{'address1': '30-30 47th Ave', 'address2': '',...</td>\n",
       "      <td>+13479249090</td>\n",
       "      <td>(347) 924-9090</td>\n",
       "      <td>5336.312095</td>\n",
       "      <td>NaN</td>\n",
       "    </tr>\n",
       "    <tr>\n",
       "      <th>997</th>\n",
       "      <td>TQzGf4k3HXyMbnNkYKKQSw</td>\n",
       "      <td>oxalis-brooklyn</td>\n",
       "      <td>Oxalis</td>\n",
       "      <td>https://s3-media3.fl.yelpcdn.com/bphoto/6Yw9Aw...</td>\n",
       "      <td>False</td>\n",
       "      <td>https://www.yelp.com/biz/oxalis-brooklyn?adjus...</td>\n",
       "      <td>240</td>\n",
       "      <td>[{'alias': 'french', 'title': 'French'}, {'ali...</td>\n",
       "      <td>4.5</td>\n",
       "      <td>{'latitude': 40.673109, 'longitude': -73.9626279}</td>\n",
       "      <td>[pickup, delivery]</td>\n",
       "      <td>{'address1': '791 Washington Ave', 'address2':...</td>\n",
       "      <td>+13476278298</td>\n",
       "      <td>(347) 627-8298</td>\n",
       "      <td>4016.488596</td>\n",
       "      <td>$$$$</td>\n",
       "    </tr>\n",
       "    <tr>\n",
       "      <th>998</th>\n",
       "      <td>VKihkof15rf3M4C-kuDL5Q</td>\n",
       "      <td>southern-charm-new-york</td>\n",
       "      <td>Southern Charm</td>\n",
       "      <td>https://s3-media4.fl.yelpcdn.com/bphoto/skLWt0...</td>\n",
       "      <td>False</td>\n",
       "      <td>https://www.yelp.com/biz/southern-charm-new-yo...</td>\n",
       "      <td>5</td>\n",
       "      <td>[{'alias': 'tradamerican', 'title': 'American ...</td>\n",
       "      <td>5.0</td>\n",
       "      <td>{'latitude': 40.73399149999999, 'longitude': -...</td>\n",
       "      <td>[pickup, delivery]</td>\n",
       "      <td>{'address1': '523 Hudson St', 'address2': '', ...</td>\n",
       "      <td>+16465843608</td>\n",
       "      <td>(646) 584-3608</td>\n",
       "      <td>3785.640809</td>\n",
       "      <td>NaN</td>\n",
       "    </tr>\n",
       "    <tr>\n",
       "      <th>999</th>\n",
       "      <td>drpANjzRLOaj9qOFiKo49Q</td>\n",
       "      <td>coffee-break-brooklyn</td>\n",
       "      <td>Coffee Break</td>\n",
       "      <td>https://s3-media3.fl.yelpcdn.com/bphoto/vVGI0c...</td>\n",
       "      <td>False</td>\n",
       "      <td>https://www.yelp.com/biz/coffee-break-brooklyn...</td>\n",
       "      <td>4</td>\n",
       "      <td>[{'alias': 'pizza', 'title': 'Pizza'}, {'alias...</td>\n",
       "      <td>3.5</td>\n",
       "      <td>{'latitude': 40.6948, 'longitude': -73.95592}</td>\n",
       "      <td>[pickup, delivery]</td>\n",
       "      <td>{'address1': '683 Myrtle Ave', 'address2': Non...</td>\n",
       "      <td>+17182540044</td>\n",
       "      <td>(718) 254-0044</td>\n",
       "      <td>2384.788543</td>\n",
       "      <td>NaN</td>\n",
       "    </tr>\n",
       "  </tbody>\n",
       "</table>\n",
       "</div>"
      ],
      "text/plain": [
       "                         id                           alias            name  \\\n",
       "995  O9LKN5kk17lQWb7mMuiBzw             yasouvlaki-new-york      yasouvlaki   \n",
       "996  jTvExXa9M8QqS_Wn_4KB5g  harissa-grill-long-island-city   Harissa Grill   \n",
       "997  TQzGf4k3HXyMbnNkYKKQSw                 oxalis-brooklyn          Oxalis   \n",
       "998  VKihkof15rf3M4C-kuDL5Q         southern-charm-new-york  Southern Charm   \n",
       "999  drpANjzRLOaj9qOFiKo49Q           coffee-break-brooklyn    Coffee Break   \n",
       "\n",
       "                                             image_url  is_closed  \\\n",
       "995  https://s3-media4.fl.yelpcdn.com/bphoto/w_Aciv...      False   \n",
       "996  https://s3-media4.fl.yelpcdn.com/bphoto/-cRhLz...      False   \n",
       "997  https://s3-media3.fl.yelpcdn.com/bphoto/6Yw9Aw...      False   \n",
       "998  https://s3-media4.fl.yelpcdn.com/bphoto/skLWt0...      False   \n",
       "999  https://s3-media3.fl.yelpcdn.com/bphoto/vVGI0c...      False   \n",
       "\n",
       "                                                   url  review_count  \\\n",
       "995  https://www.yelp.com/biz/yasouvlaki-new-york?a...           109   \n",
       "996  https://www.yelp.com/biz/harissa-grill-long-is...            16   \n",
       "997  https://www.yelp.com/biz/oxalis-brooklyn?adjus...           240   \n",
       "998  https://www.yelp.com/biz/southern-charm-new-yo...             5   \n",
       "999  https://www.yelp.com/biz/coffee-break-brooklyn...             4   \n",
       "\n",
       "                                            categories  rating  \\\n",
       "995             [{'alias': 'greek', 'title': 'Greek'}]     4.0   \n",
       "996  [{'alias': 'mediterranean', 'title': 'Mediterr...     4.0   \n",
       "997  [{'alias': 'french', 'title': 'French'}, {'ali...     4.5   \n",
       "998  [{'alias': 'tradamerican', 'title': 'American ...     5.0   \n",
       "999  [{'alias': 'pizza', 'title': 'Pizza'}, {'alias...     3.5   \n",
       "\n",
       "                                           coordinates        transactions  \\\n",
       "995      {'latitude': 40.7803, 'longitude': -73.95312}                  []   \n",
       "996  {'latitude': 40.7423867, 'longitude': -73.9364...  [pickup, delivery]   \n",
       "997  {'latitude': 40.673109, 'longitude': -73.9626279}  [pickup, delivery]   \n",
       "998  {'latitude': 40.73399149999999, 'longitude': -...  [pickup, delivery]   \n",
       "999      {'latitude': 40.6948, 'longitude': -73.95592}  [pickup, delivery]   \n",
       "\n",
       "                                              location         phone  \\\n",
       "995  {'address1': '1568 3rd Ave', 'address2': '', '...                 \n",
       "996  {'address1': '30-30 47th Ave', 'address2': '',...  +13479249090   \n",
       "997  {'address1': '791 Washington Ave', 'address2':...  +13476278298   \n",
       "998  {'address1': '523 Hudson St', 'address2': '', ...  +16465843608   \n",
       "999  {'address1': '683 Myrtle Ave', 'address2': Non...  +17182540044   \n",
       "\n",
       "      display_phone     distance price  \n",
       "995                  8444.227049   NaN  \n",
       "996  (347) 924-9090  5336.312095   NaN  \n",
       "997  (347) 627-8298  4016.488596  $$$$  \n",
       "998  (646) 584-3608  3785.640809   NaN  \n",
       "999  (718) 254-0044  2384.788543   NaN  "
      ]
     },
     "metadata": {},
     "output_type": "display_data"
    }
   ],
   "source": [
    "# load final results\n",
    "final_df = pd.read_json(JSON_FILE)\n",
    "display(final_df.head(), final_df.tail())"
   ]
  },
  {
   "cell_type": "code",
   "execution_count": 66,
   "id": "0549f748-b9e8-4411-9d89-b4dbd9b551e1",
   "metadata": {},
   "outputs": [
    {
     "data": {
      "text/plain": [
       "257"
      ]
     },
     "execution_count": 66,
     "metadata": {},
     "output_type": "execute_result"
    }
   ],
   "source": [
    "# check for duplicate ID's \n",
    "final_df.duplicated(subset='id').sum()"
   ]
  },
  {
   "cell_type": "code",
   "execution_count": 67,
   "id": "2b87f813-3867-4539-9b03-c0893c653769",
   "metadata": {},
   "outputs": [
    {
     "data": {
      "text/plain": [
       "0"
      ]
     },
     "execution_count": 67,
     "metadata": {},
     "output_type": "execute_result"
    }
   ],
   "source": [
    "## Drop duplicate ids and confirm there are no more duplicates\n",
    "final_df = final_df.drop_duplicates(subset='id')\n",
    "final_df.duplicated(subset='id').sum()"
   ]
  },
  {
   "cell_type": "code",
   "execution_count": 68,
   "id": "aebdf313-015e-4043-9329-755c234d2b93",
   "metadata": {},
   "outputs": [],
   "source": [
    "# save the final results to a compressed csv\n",
    "final_df.to_csv('Data/final_results_NY_salad.csv.gz', compression='gzip',index=False)"
   ]
  },
  {
   "cell_type": "code",
   "execution_count": null,
   "id": "cb0c31a2-53bb-4668-ab79-5d8596bf6a17",
   "metadata": {},
   "outputs": [],
   "source": []
  }
 ],
 "metadata": {
  "kernelspec": {
   "display_name": "Python (dojo-env)",
   "language": "python",
   "name": "dojo-env"
  },
  "language_info": {
   "codemirror_mode": {
    "name": "ipython",
    "version": 3
   },
   "file_extension": ".py",
   "mimetype": "text/x-python",
   "name": "python",
   "nbconvert_exporter": "python",
   "pygments_lexer": "ipython3",
   "version": "3.9.15"
  }
 },
 "nbformat": 4,
 "nbformat_minor": 5
}
